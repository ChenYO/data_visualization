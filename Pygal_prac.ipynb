{
 "cells": [
  {
   "cell_type": "markdown",
   "metadata": {},
   "source": [
    "# 使用Pygal來做資料視覺化"
   ]
  },
  {
   "cell_type": "markdown",
   "metadata": {},
   "source": [
    "#### 以丟骰子為主要例子\n"
   ]
  },
  {
   "cell_type": "markdown",
   "metadata": {},
   "source": [
    "#### 使用pygal可於線上做視覺化的顯示"
   ]
  },
  {
   "cell_type": "code",
   "execution_count": 5,
   "metadata": {
    "collapsed": true
   },
   "outputs": [],
   "source": [
    "from random import randint\n",
    "import pygal\n",
    "\n",
    "#建立骰子類別\n",
    "class Die():\n",
    "    def __init__(self, num_sides=6):\n",
    "        self.num_sides = num_sides\n",
    "        \n",
    "    def roll(self):\n",
    "        return randint(1, self.num_sides)"
   ]
  },
  {
   "cell_type": "code",
   "execution_count": 3,
   "metadata": {},
   "outputs": [
    {
     "name": "stdout",
     "output_type": "stream",
     "text": [
      "[1, 1, 5, 1, 3, 5, 5, 2, 5, 2, 1, 3, 4, 3, 6, 4, 5, 6, 3, 4, 2, 6, 2, 1, 2, 5, 6, 2, 5, 3, 5, 6, 3, 6, 2, 4, 3, 5, 6, 3, 1, 1, 4, 6, 4, 1, 6, 6, 2, 3, 4, 3, 6, 3, 4, 6, 5, 2, 3, 1, 5, 1, 3, 2, 2, 5, 6, 5, 4, 1, 5, 5, 4, 5, 5, 2, 6, 3, 5, 6, 2, 3, 5, 5, 6, 6, 4, 6, 5, 6, 6, 3, 1, 5, 4, 4, 3, 2, 4, 4]\n"
     ]
    }
   ],
   "source": [
    "die = Die()\n",
    "results = []\n",
    "\n",
    "#隨機丟100次\n",
    "for roll_num in range(100):\n",
    "    result = die.roll()\n",
    "    results.append(result)\n",
    "    \n",
    "print(results)"
   ]
  },
  {
   "cell_type": "markdown",
   "metadata": {},
   "source": [
    "### 分析結果"
   ]
  },
  {
   "cell_type": "code",
   "execution_count": 4,
   "metadata": {},
   "outputs": [
    {
     "name": "stdout",
     "output_type": "stream",
     "text": [
      "[170, 202, 193, 182, 184, 169]\n"
     ]
    }
   ],
   "source": [
    "for roll_num in range(1000):\n",
    "    result = die.roll()\n",
    "    results.append(result)\n",
    "    \n",
    "frequencies = []\n",
    "for value in range(1, die.num_sides+1):\n",
    "    frequency = results.count(value)\n",
    "    frequencies.append(frequency)\n",
    "\n",
    "print(frequencies)\n",
    "    "
   ]
  },
  {
   "cell_type": "markdown",
   "metadata": {},
   "source": [
    "### 繪製結果"
   ]
  },
  {
   "cell_type": "code",
   "execution_count": 6,
   "metadata": {
    "collapsed": true
   },
   "outputs": [],
   "source": [
    "hist = pygal.Bar()\n",
    "hist.title = \"Results of rolling one D6 1000 times.\"\n",
    "hist.x_title = \"Result\"\n",
    "hist.y_title = \"Frequency of Result\"\n",
    "\n",
    "hist.add(\"D6\", frequencies)\n",
    "hist.render_to_file(\"die_visual.svg\")"
   ]
  },
  {
   "cell_type": "markdown",
   "metadata": {},
   "source": [
    "### 同時丟兩個骰子"
   ]
  },
  {
   "cell_type": "code",
   "execution_count": 7,
   "metadata": {
    "collapsed": true
   },
   "outputs": [],
   "source": [
    "die_1 = Die()\n",
    "die_2 = Die(10)\n",
    "\n",
    "results = []\n",
    "\n",
    "for roll_num in range(50000):\n",
    "    result = die_1.roll() + die_2.roll()\n",
    "    results.append(result)\n",
    "\n",
    "frequencies = []\n",
    "for value in range(1, die_2.num_sides+1):\n",
    "    frequency = results.count(value)\n",
    "    frequencies.append(frequency)\n",
    "\n",
    "hist_2 = pygal.Bar()\n",
    "\n",
    "hist_2.title = \"Results of rolling a D6 and a D10 50000 times\"\n",
    "hist_2.x_labels = [x for x in range(2, 16)]\n",
    "hist_2.x_title = \"Result\"\n",
    "hist_2.y_title = \"Frequency of Result\"\n",
    "\n",
    "hist_2.add(\"D6 + D10\", frequencies)\n",
    "\n",
    "hist_2.render_to_file(\"dice_visual.svg\")\n"
   ]
  }
 ],
 "metadata": {
  "kernelspec": {
   "display_name": "Python 3",
   "language": "python",
   "name": "python3"
  },
  "language_info": {
   "codemirror_mode": {
    "name": "ipython",
    "version": 3
   },
   "file_extension": ".py",
   "mimetype": "text/x-python",
   "name": "python",
   "nbconvert_exporter": "python",
   "pygments_lexer": "ipython3",
   "version": "3.6.1"
  }
 },
 "nbformat": 4,
 "nbformat_minor": 2
}
